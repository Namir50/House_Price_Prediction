{
  "nbformat": 4,
  "nbformat_minor": 0,
  "metadata": {
    "colab": {
      "provenance": []
    },
    "kernelspec": {
      "name": "python3",
      "display_name": "Python 3"
    },
    "language_info": {
      "name": "python"
    }
  },
  "cells": [
    {
      "cell_type": "code",
      "execution_count": null,
      "metadata": {
        "id": "eKyxO5vBPlgG"
      },
      "outputs": [],
      "source": [
        "import pandas as pd\n",
        "import numpy as np\n",
        "import tensorflow as tf\n",
        "from sklearn.model_selection import train_test_split\n",
        "from sklearn.preprocessing import StandardScaler"
      ]
    },
    {
      "cell_type": "code",
      "source": [
        "# Load the dataset\n",
        "file_path = 'house_data.csv'\n",
        "data = pd.read_csv(file_path)"
      ],
      "metadata": {
        "id": "HmBFPS00P8RJ"
      },
      "execution_count": 2,
      "outputs": []
    },
    {
      "cell_type": "code",
      "source": [
        "# Split the data into features (X) and target variable (y)\n",
        "X = data[['age', 'distance', 'stores', 'latitude', 'longitude']]\n",
        "y = data['price']"
      ],
      "metadata": {
        "id": "xwvdVgG9QA4w"
      },
      "execution_count": 3,
      "outputs": []
    },
    {
      "cell_type": "code",
      "source": [
        "# Split the data into training and testing sets\n",
        "X_train, X_test, y_train, y_test = train_test_split(X, y, test_size=0.2, random_state=42)"
      ],
      "metadata": {
        "id": "Nb_VUCg1QFFS"
      },
      "execution_count": 4,
      "outputs": []
    },
    {
      "cell_type": "code",
      "source": [
        "# Standardize the features\n",
        "scaler = StandardScaler()\n",
        "X_train_scaled = scaler.fit_transform(X_train)\n",
        "X_test_scaled = scaler.transform(X_test)"
      ],
      "metadata": {
        "id": "D4xPUJvUQM7v"
      },
      "execution_count": null,
      "outputs": []
    },
    {
      "cell_type": "code",
      "source": [
        "# Build the neural network model\n",
        "model = tf.keras.Sequential([\n",
        "    tf.keras.layers.Input(shape=(X_train.shape[1],)),  # input layer with the number of features\n",
        "    tf.keras.layers.Dense(64, activation='relu'),\n",
        "    tf.keras.layers.Dense(1)  # output layer for regression\n",
        "])\n",
        "\n",
        "# Compile the model\n",
        "model.compile(optimizer='adam', loss='mean_squared_error')\n"
      ],
      "metadata": {
        "id": "Kn9DuJP9QJdQ"
      },
      "execution_count": 5,
      "outputs": []
    },
    {
      "cell_type": "code",
      "source": [
        "# Train the model\n",
        "model.fit(X_train_scaled, y_train, epochs=50, batch_size=32, validation_split=0.2, verbose=2)\n",
        "\n",
        "# Evaluate the model on the test set\n",
        "loss = model.evaluate(X_test_scaled, y_test, verbose=0)\n",
        "print(f'Mean Squared Error on Test Set: {loss}')"
      ],
      "metadata": {
        "id": "voBmK4G8QYQV"
      },
      "execution_count": null,
      "outputs": []
    },
    {
      "cell_type": "code",
      "source": [
        "# Predict house prices for new data\n",
        "new_data = pd.DataFrame({\n",
        "    'age': [25],\n",
        "    'distance': [5],\n",
        "    'stores': [2],\n",
        "    'latitude': [40.7128],\n",
        "    'longitude': [-74.0060]\n",
        "})"
      ],
      "metadata": {
        "id": "MPH2S79UQjki"
      },
      "execution_count": 10,
      "outputs": []
    },
    {
      "cell_type": "code",
      "source": [
        "new_data_scaled = scaler.transform(new_data)\n",
        "predictions = model.predict(new_data_scaled)\n",
        "\n",
        "# Currency conversion factor\n",
        "conversion_rate = 83.43  # Replace with the current exchange rate\n",
        "\n",
        "# Print the predicted prices in both dollars and rupees\n",
        "for i, pred in enumerate(predictions):\n",
        "    predicted_price_usd = pred[0]\n",
        "    predicted_price_inr = pred[0] * conversion_rate\n",
        "    print(f'Predicted Price for house {i+1}: ${predicted_price_usd:,.2f} USD | ₹{predicted_price_inr:,.2f} INR')"
      ],
      "metadata": {
        "colab": {
          "base_uri": "https://localhost:8080/"
        },
        "id": "nF79EcNIQoMG",
        "outputId": "998cc69b-4b98-459f-98f2-2f7905c239cb"
      },
      "execution_count": 14,
      "outputs": [
        {
          "output_type": "stream",
          "name": "stdout",
          "text": [
            "1/1 [==============================] - 0s 22ms/step\n",
            "Predicted Price for house 1: $49,813.99 USD | ₹4,155,981.04 INR\n"
          ]
        }
      ]
    }
  ]
}